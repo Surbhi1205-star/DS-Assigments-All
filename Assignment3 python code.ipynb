{
 "cells": [
  {
   "cell_type": "markdown",
   "id": "bcd2a863-2147-4635-8ca9-1d98617a1ae0",
   "metadata": {},
   "source": [
    "#quest 1  Exercise 1: Prime Numbers\n",
    "#Write a Python program that checks whether a given number is prime or not. A prime number is a natural number greater than 1 that has no positive divisors other than 1 and itself"
   ]
  },
  {
   "cell_type": "code",
   "execution_count": 43,
   "id": "76772fe2-59d5-4651-ac96-1adb1505eb34",
   "metadata": {},
   "outputs": [
    {
     "name": "stdin",
     "output_type": "stream",
     "text": [
      "Enter Prime No. ? :  78\n"
     ]
    },
    {
     "name": "stdout",
     "output_type": "stream",
     "text": [
      "78 is not a prime no.\n"
     ]
    }
   ],
   "source": [
    "import numpy as np\n",
    "import pandas as pd\n",
    "\n",
    "num = int(input(\"Enter Prime No. ? : \"))\n",
    "\n",
    "if num > 1:\n",
    "    for i in range (2,num):\n",
    "        if(num % i) == 0:\n",
    "            print(num,\"is not a prime no.\")\n",
    "            break\n",
    "    else:\n",
    "       print(num,\"is a prime number.\")\n",
    "else:\n",
    "   print(num,\"is not a prime number.\")"
   ]
  },
  {
   "cell_type": "code",
   "execution_count": null,
   "id": "cfe524a4-6531-4f70-9d5d-a3f608cb0dca",
   "metadata": {},
   "outputs": [],
   "source": [
    "#quest 2  Exercise 2: Product of Random Numbers\n",
    "#Develop a Python program that generates two random numbers and asks the user to enter the product of these numbers. The program should then check if the user's answer is correct and display an appropriate message.\n"
   ]
  },
  {
   "cell_type": "code",
   "execution_count": 51,
   "id": "5a9132c3-0479-4974-a38e-3609a6bbda48",
   "metadata": {},
   "outputs": [
    {
     "name": "stdin",
     "output_type": "stream",
     "text": [
      "What is the product of 1 and 1?  7\n"
     ]
    },
    {
     "name": "stdout",
     "output_type": "stream",
     "text": [
      "Incorrect. Try again.\n"
     ]
    },
    {
     "name": "stdin",
     "output_type": "stream",
     "text": [
      "What is the product of 1 and 1?  1\n"
     ]
    },
    {
     "name": "stdout",
     "output_type": "stream",
     "text": [
      "Correct!\n"
     ]
    }
   ],
   "source": [
    "import random\n",
    "\n",
    "def product_game():\n",
    "  num1 = random.randint(1, 10)\n",
    "  num2 = random.randint(1, 10)\n",
    "  correct_product = num1 * num2\n",
    "\n",
    "  while True:\n",
    "    try:\n",
    "      user_answer = int(input(f\"What is the product of {num1} and {num2}? \"))\n",
    "      if user_answer == correct_product:\n",
    "        print(\"Correct!\")\n",
    "        break\n",
    "      else:\n",
    "        print(\"Incorrect. Try again.\")\n",
    "    except ValueError:\n",
    "      print(\"Invalid input. Please enter an integer.\")\n",
    "\n",
    "product_game()"
   ]
  },
  {
   "cell_type": "markdown",
   "id": "6a6c813c-c863-455f-ad9f-1a009d3dc20c",
   "metadata": {},
   "source": [
    "Exercise 3: Squares of Even/Odd Numbers\n",
    "Create a Python script that prints the squares of all even or odd numbers within the range of 100 to 200. Choose either even or odd numbers and document your choice in the code."
   ]
  },
  {
   "cell_type": "code",
   "execution_count": 117,
   "id": "4d99b463-7dbc-401d-ab91-5db2cf968771",
   "metadata": {},
   "outputs": [
    {
     "name": "stdout",
     "output_type": "stream",
     "text": [
      "square of 100 is 10000\n",
      "square of 101 is 10201\n",
      "square of 102 is 10404\n",
      "square of 103 is 10609\n",
      "square of 104 is 10816\n",
      "square of 105 is 11025\n",
      "square of 106 is 11236\n",
      "square of 107 is 11449\n",
      "square of 108 is 11664\n",
      "square of 109 is 11881\n",
      "square of 110 is 12100\n",
      "square of 111 is 12321\n",
      "square of 112 is 12544\n",
      "square of 113 is 12769\n",
      "square of 114 is 12996\n",
      "square of 115 is 13225\n",
      "square of 116 is 13456\n",
      "square of 117 is 13689\n",
      "square of 118 is 13924\n",
      "square of 119 is 14161\n",
      "square of 120 is 14400\n",
      "square of 121 is 14641\n",
      "square of 122 is 14884\n",
      "square of 123 is 15129\n",
      "square of 124 is 15376\n",
      "square of 125 is 15625\n",
      "square of 126 is 15876\n",
      "square of 127 is 16129\n",
      "square of 128 is 16384\n",
      "square of 129 is 16641\n",
      "square of 130 is 16900\n",
      "square of 131 is 17161\n",
      "square of 132 is 17424\n",
      "square of 133 is 17689\n",
      "square of 134 is 17956\n",
      "square of 135 is 18225\n",
      "square of 136 is 18496\n",
      "square of 137 is 18769\n",
      "square of 138 is 19044\n",
      "square of 139 is 19321\n",
      "square of 140 is 19600\n",
      "square of 141 is 19881\n",
      "square of 142 is 20164\n",
      "square of 143 is 20449\n",
      "square of 144 is 20736\n",
      "square of 145 is 21025\n",
      "square of 146 is 21316\n",
      "square of 147 is 21609\n",
      "square of 148 is 21904\n",
      "square of 149 is 22201\n",
      "square of 150 is 22500\n",
      "square of 151 is 22801\n",
      "square of 152 is 23104\n",
      "square of 153 is 23409\n",
      "square of 154 is 23716\n",
      "square of 155 is 24025\n",
      "square of 156 is 24336\n",
      "square of 157 is 24649\n",
      "square of 158 is 24964\n",
      "square of 159 is 25281\n",
      "square of 160 is 25600\n",
      "square of 161 is 25921\n",
      "square of 162 is 26244\n",
      "square of 163 is 26569\n",
      "square of 164 is 26896\n",
      "square of 165 is 27225\n",
      "square of 166 is 27556\n",
      "square of 167 is 27889\n",
      "square of 168 is 28224\n",
      "square of 169 is 28561\n",
      "square of 170 is 28900\n",
      "square of 171 is 29241\n",
      "square of 172 is 29584\n",
      "square of 173 is 29929\n",
      "square of 174 is 30276\n",
      "square of 175 is 30625\n",
      "square of 176 is 30976\n",
      "square of 177 is 31329\n",
      "square of 178 is 31684\n",
      "square of 179 is 32041\n",
      "square of 180 is 32400\n",
      "square of 181 is 32761\n",
      "square of 182 is 33124\n",
      "square of 183 is 33489\n",
      "square of 184 is 33856\n",
      "square of 185 is 34225\n",
      "square of 186 is 34596\n",
      "square of 187 is 34969\n",
      "square of 188 is 35344\n",
      "square of 189 is 35721\n",
      "square of 190 is 36100\n",
      "square of 191 is 36481\n",
      "square of 192 is 36864\n",
      "square of 193 is 37249\n",
      "square of 194 is 37636\n",
      "square of 195 is 38025\n",
      "square of 196 is 38416\n",
      "square of 197 is 38809\n",
      "square of 198 is 39204\n",
      "square of 199 is 39601\n",
      "square of 200 is 40000\n"
     ]
    }
   ],
   "source": [
    "num=100\n",
    "while (num<=200):\n",
    "   \n",
    "    print(\"square of\",num,\"is\", num*num)\n",
    "    num=num+1"
   ]
  },
  {
   "cell_type": "code",
   "execution_count": 121,
   "id": "9ed7a68c-6e8e-49be-b38e-80e6140ce736",
   "metadata": {},
   "outputs": [
    {
     "name": "stdout",
     "output_type": "stream",
     "text": [
      "Square of  100 10000\n",
      "Square of  102 10404\n",
      "Square of  104 10816\n",
      "Square of  106 11236\n",
      "Square of  108 11664\n",
      "Square of  110 12100\n",
      "Square of  112 12544\n",
      "Square of  114 12996\n",
      "Square of  116 13456\n",
      "Square of  118 13924\n",
      "Square of  120 14400\n",
      "Square of  122 14884\n",
      "Square of  124 15376\n",
      "Square of  126 15876\n",
      "Square of  128 16384\n",
      "Square of  130 16900\n",
      "Square of  132 17424\n",
      "Square of  134 17956\n",
      "Square of  136 18496\n",
      "Square of  138 19044\n",
      "Square of  140 19600\n",
      "Square of  142 20164\n",
      "Square of  144 20736\n",
      "Square of  146 21316\n",
      "Square of  148 21904\n",
      "Square of  150 22500\n",
      "Square of  152 23104\n",
      "Square of  154 23716\n",
      "Square of  156 24336\n",
      "Square of  158 24964\n",
      "Square of  160 25600\n",
      "Square of  162 26244\n",
      "Square of  164 26896\n",
      "Square of  166 27556\n",
      "Square of  168 28224\n",
      "Square of  170 28900\n",
      "Square of  172 29584\n",
      "Square of  174 30276\n",
      "Square of  176 30976\n",
      "Square of  178 31684\n",
      "Square of  180 32400\n",
      "Square of  182 33124\n",
      "Square of  184 33856\n",
      "Square of  186 34596\n",
      "Square of  188 35344\n",
      "Square of  190 36100\n",
      "Square of  192 36864\n",
      "Square of  194 37636\n",
      "Square of  196 38416\n",
      "Square of  198 39204\n",
      "Square of  200 40000\n"
     ]
    }
   ],
   "source": [
    "# even\n",
    "for i in range(100, 201):\n",
    "  if i % 2 == 0:\n",
    "    print(\"Square of \",i ,i**2)"
   ]
  },
  {
   "cell_type": "code",
   "execution_count": 177,
   "id": "fc53901c-c784-4332-8419-6eff9ca4d5e9",
   "metadata": {},
   "outputs": [
    {
     "name": "stdout",
     "output_type": "stream",
     "text": [
      "Square of  101 10201\n",
      "Square of  103 10609\n",
      "Square of  105 11025\n",
      "Square of  107 11449\n",
      "Square of  109 11881\n",
      "Square of  111 12321\n",
      "Square of  113 12769\n",
      "Square of  115 13225\n",
      "Square of  117 13689\n",
      "Square of  119 14161\n",
      "Square of  121 14641\n",
      "Square of  123 15129\n",
      "Square of  125 15625\n",
      "Square of  127 16129\n",
      "Square of  129 16641\n",
      "Square of  131 17161\n",
      "Square of  133 17689\n",
      "Square of  135 18225\n",
      "Square of  137 18769\n",
      "Square of  139 19321\n",
      "Square of  141 19881\n",
      "Square of  143 20449\n",
      "Square of  145 21025\n",
      "Square of  147 21609\n",
      "Square of  149 22201\n",
      "Square of  151 22801\n",
      "Square of  153 23409\n",
      "Square of  155 24025\n",
      "Square of  157 24649\n",
      "Square of  159 25281\n",
      "Square of  161 25921\n",
      "Square of  163 26569\n",
      "Square of  165 27225\n",
      "Square of  167 27889\n",
      "Square of  169 28561\n",
      "Square of  171 29241\n",
      "Square of  173 29929\n",
      "Square of  175 30625\n",
      "Square of  177 31329\n",
      "Square of  179 32041\n",
      "Square of  181 32761\n",
      "Square of  183 33489\n",
      "Square of  185 34225\n",
      "Square of  187 34969\n",
      "Square of  189 35721\n",
      "Square of  191 36481\n",
      "Square of  193 37249\n",
      "Square of  195 38025\n",
      "Square of  197 38809\n",
      "Square of  199 39601\n"
     ]
    }
   ],
   "source": [
    "#odd\n",
    "for i in range(101, 200+1, 2):\n",
    "    print(\"Square of \",i ,i**2)"
   ]
  },
  {
   "cell_type": "markdown",
   "id": "0882b35d-158a-4209-83ff-d84409224643",
   "metadata": {},
   "source": [
    "Exercise 4: Word counter\n"
   ]
  },
  {
   "cell_type": "code",
   "execution_count": 184,
   "id": "cfad3470-a9c9-4927-ae19-574793ee4e65",
   "metadata": {},
   "outputs": [
    {
     "name": "stdout",
     "output_type": "stream",
     "text": [
      "The text contains 15 words.\n"
     ]
    }
   ],
   "source": [
    "input_text = \"This is a sample text. This text will be used to demonstrate the word counter.\"\n",
    "input_text_length = len(input_text.split())\n",
    "print(\"The text contains\", input_text_length , \"words.\")"
   ]
  },
  {
   "cell_type": "code",
   "execution_count": 193,
   "id": "0f1306a6-24c9-4b01-ac5b-72c3f020e804",
   "metadata": {},
   "outputs": [
    {
     "name": "stdout",
     "output_type": "stream",
     "text": [
      "'this': 2\n",
      "'is': 1\n",
      "'a': 1\n",
      "'sample': 1\n",
      "'text': 2\n",
      "'will': 1\n",
      "'be': 1\n",
      "'used': 1\n",
      "'to': 1\n",
      "'demonstrate': 1\n",
      "'the': 1\n",
      "'word': 1\n",
      "'counter': 1\n"
     ]
    }
   ],
   "source": [
    "# prompt: write a program to count the number of words in a given text.\n",
    "# example:\n",
    "# input_text = \"This is a sample text. This text will be used to demonstrate the word counter.\"\n",
    "# Expected output:\n",
    "# 'This': 2 \n",
    "# 'is': 1\n",
    "# 'a': 1\n",
    "\n",
    "def count_words(text):\n",
    "    words = text.lower().split() \n",
    "    word_counts = {}\n",
    "    for word in words:\n",
    "        word = ''.join(c for c in word if c.isalnum()) # remove punctuation\n",
    "        if word: #Avoid counting empty strings\n",
    "            if word in word_counts:\n",
    "                word_counts[word] += 1\n",
    "            else:\n",
    "                word_counts[word] = 1\n",
    "    return word_counts\n",
    "\n",
    "# Example usage\n",
    "input_text = \"This is a sample text. This text will be used to demonstrate the word counter.\"\n",
    "word_counts = count_words(input_text)\n",
    "for word, count in word_counts.items():\n",
    "    print(f\"'{word}': {count}\")"
   ]
  },
  {
   "cell_type": "markdown",
   "id": "8470b765-bac1-4203-88bb-30c83cb6a28d",
   "metadata": {},
   "source": [
    "Exercise 5: Check for Palindrome\n",
    "Write a Python function called is_palindrome that takes a string as input and returns True if the string is a palindrome, and False otherwise. A palindrome is a word, phrase, number, or other sequence of characters that reads the same forward and backward, ignoring spaces, punctuation, and capitalization."
   ]
  },
  {
   "cell_type": "code",
   "execution_count": 195,
   "id": "db78e592-0604-4379-a0a5-c0a09a8fda6e",
   "metadata": {},
   "outputs": [
    {
     "name": "stdout",
     "output_type": "stream",
     "text": [
      "'Theracecar' is a palindrome: False\n",
      "'A man, a plan, a canal: Panama' is a palindrome: True\n",
      "'hello Everyone' is a palindrome: False\n"
     ]
    }
   ],
   "source": [
    "def is_palindrome(text):\n",
    "\n",
    "    processed_text = ''.join(c for c in text.lower() if c.isalnum())\n",
    "    return processed_text == processed_text[::-1]\n",
    "\n",
    "# Example usage\n",
    "string1 = \"Theracecar\"\n",
    "string2 = \"A man, a plan, a canal: Panama\"\n",
    "string3 = \"hello Everyone\"\n",
    "\n",
    "print(f\"'{string1}' is a palindrome: {is_palindrome(string1)}\")\n",
    "print(f\"'{string2}' is a palindrome: {is_palindrome(string2)}\")\n",
    "print(f\"'{string3}' is a palindrome: {is_palindrome(string3)}\")"
   ]
  },
  {
   "cell_type": "code",
   "execution_count": null,
   "id": "9d3bd127-73c1-46cb-b0de-fb5fd2747f6f",
   "metadata": {},
   "outputs": [],
   "source": []
  }
 ],
 "metadata": {
  "kernelspec": {
   "display_name": "Python 3 (ipykernel)",
   "language": "python",
   "name": "python3"
  },
  "language_info": {
   "codemirror_mode": {
    "name": "ipython",
    "version": 3
   },
   "file_extension": ".py",
   "mimetype": "text/x-python",
   "name": "python",
   "nbconvert_exporter": "python",
   "pygments_lexer": "ipython3",
   "version": "3.12.4"
  }
 },
 "nbformat": 4,
 "nbformat_minor": 5
}
