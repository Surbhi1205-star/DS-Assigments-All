{
 "cells": [
  {
   "cell_type": "markdown",
   "id": "7aa4ac18-1fd9-4cda-86a7-a26a2b0f4832",
   "metadata": {},
   "source": [
    "chi square"
   ]
  },
  {
   "cell_type": "code",
   "execution_count": 3,
   "id": "5203271d-9001-40d7-9456-bbc994fc85f4",
   "metadata": {},
   "outputs": [
    {
     "name": "stdout",
     "output_type": "stream",
     "text": [
      "Contingency Table:\n",
      "                   Smart Thermostat  Smart Light\n",
      "Very Satisfied                  50           70\n",
      "Satisfied                       80          100\n",
      "Neutral                         60           90\n",
      "Unsatisfied                     30           50\n",
      "Very Unsatisfied                20           50\n",
      "Chi-Square Statistic: 5.638227513227513\n",
      "P-value: 0.22784371130697179\n",
      "Degrees of Freedom: 4\n",
      "Expected Frequencies:\n",
      "                   Smart Thermostat  Smart Light\n",
      "Very Satisfied                48.0         72.0\n",
      "Satisfied                     72.0        108.0\n",
      "Neutral                       60.0         90.0\n",
      "Unsatisfied                   32.0         48.0\n",
      "Very Unsatisfied              28.0         42.0\n",
      "Critical Value at alpha=0.05: 9.487729036781154\n",
      "Fail to reject the null hypothesis: No significant association between device type and satisfaction.\n"
     ]
    }
   ],
   "source": [
    "import numpy as np\n",
    "import scipy.stats as stats\n",
    "import pandas as pd\n",
    "\n",
    "# Step 1: State the Hypotheses\n",
    "# H0: There is no association between the type of smart home device and customer satisfaction.\n",
    "# H1: There is an association between the type of smart home device and customer satisfaction.\n",
    "\n",
    "# Step 2: Create the Contingency Table\n",
    "data = np.array([[50, 70], [80, 100], [60, 90], [30, 50], [20, 50]])\n",
    "labels = ['Very Satisfied', 'Satisfied', 'Neutral', 'Unsatisfied', 'Very Unsatisfied']\n",
    "devices = ['Smart Thermostat', 'Smart Light']\n",
    "\n",
    "df = pd.DataFrame(data, index=labels, columns=devices)\n",
    "print(\"Contingency Table:\\n\", df)\n",
    "\n",
    "# Step 3: Compute the Chi-Square Statistic\n",
    "chi2_stat, p_value, dof, expected = stats.chi2_contingency(df)\n",
    "\n",
    "print(f\"Chi-Square Statistic: {chi2_stat}\")\n",
    "print(f\"P-value: {p_value}\")\n",
    "print(f\"Degrees of Freedom: {dof}\")\n",
    "print(\"Expected Frequencies:\\n\", pd.DataFrame(expected, index=labels, columns=devices))\n",
    "\n",
    "# Step 4: Determine the Critical Value (alpha = 0.05)\n",
    "alpha = 0.05\n",
    "critical_value = stats.chi2.ppf(1 - alpha, dof)\n",
    "print(f\"Critical Value at alpha=0.05: {critical_value}\")\n",
    "\n",
    "# Step 5: Decision Rule\n",
    "if chi2_stat > critical_value:\n",
    "    print(\"Reject the null hypothesis: There is a significant association between device type and satisfaction.\")\n",
    "else:\n",
    "    print(\"Fail to reject the null hypothesis: No significant association between device type and satisfaction.\")\n"
   ]
  },
  {
   "cell_type": "markdown",
   "id": "13c54407-241f-4c89-9413-268af230856c",
   "metadata": {},
   "source": [
    "# Hypothesis Testing"
   ]
  },
  {
   "cell_type": "code",
   "execution_count": null,
   "id": "161c382e-557e-4935-aba0-37a0de97d542",
   "metadata": {},
   "outputs": [],
   "source": []
  }
 ],
 "metadata": {
  "kernelspec": {
   "display_name": "Python [conda env:base] *",
   "language": "python",
   "name": "conda-base-py"
  },
  "language_info": {
   "codemirror_mode": {
    "name": "ipython",
    "version": 3
   },
   "file_extension": ".py",
   "mimetype": "text/x-python",
   "name": "python",
   "nbconvert_exporter": "python",
   "pygments_lexer": "ipython3",
   "version": "3.12.4"
  }
 },
 "nbformat": 4,
 "nbformat_minor": 5
}
