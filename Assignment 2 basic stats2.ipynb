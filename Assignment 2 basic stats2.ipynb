{
 "cells": [
  {
   "cell_type": "code",
   "execution_count": 1,
   "id": "d2249cae-3a12-47a7-a3f9-edf29e7bcde4",
   "metadata": {},
   "outputs": [
    {
     "name": "stdout",
     "output_type": "stream",
     "text": [
      "Sample Mean: 1.2387\n",
      "Sample Standard Deviation: 0.1932\n",
      "95% Confidence Interval: (1.1317, 1.3456)\n"
     ]
    }
   ],
   "source": [
    "# prompt: Scenario\n",
    "# A manufacturer of print-heads for personal computers is interested in estimating the mean durability of their print-heads in terms of the number of characters printed before failure. To assess this, the manufacturer conducts a study on a small sample of print-heads due to the destructive nature of the testing process.\n",
    "# Data\n",
    "# A total of 15 print-heads were randomly selected and tested until failure. The durability of each print-head (in millions of characters) was recorded as follows:\n",
    "# 1.13, 1.55, 1.43, 0.92, 1.25, 1.36, 1.32, 0.85, 1.07, 1.48, 1.20, 1.33, 1.18, 1.22, 1.29\n",
    "\n",
    "import numpy as np\n",
    "from scipy import stats\n",
    "\n",
    "# Given data\n",
    "data = [1.13, 1.55, 1.43, 0.92, 1.25, 1.36, 1.32, 0.85, 1.07, 1.48, 1.20, 1.33, 1.18, 1.22, 1.29]\n",
    "\n",
    "# Calculate the sample mean\n",
    "sample_mean = np.mean(data)\n",
    "\n",
    "# Calculate the sample standard deviation\n",
    "sample_std = np.std(data, ddof=1)  # Use ddof=1 for sample standard deviation\n",
    "\n",
    "# Calculate the sample size\n",
    "n = len(data)\n",
    "\n",
    "# Calculate the t-value for a 95% confidence interval (two-tailed) with degrees of freedom (n-1)\n",
    "t_value = stats.t.ppf(0.975, n - 1)\n",
    "\n",
    "# Calculate the margin of error\n",
    "margin_of_error = t_value * (sample_std / np.sqrt(n))\n",
    "\n",
    "# Calculate the confidence interval\n",
    "confidence_interval = (sample_mean - margin_of_error, sample_mean + margin_of_error)\n",
    "\n",
    "print(f\"Sample Mean: {sample_mean:.4f}\")\n",
    "print(f\"Sample Standard Deviation: {sample_std:.4f}\")\n",
    "print(f\"95% Confidence Interval: ({confidence_interval[0]:.4f}, {confidence_interval[1]:.4f})\")\n"
   ]
  },
  {
   "cell_type": "markdown",
   "id": "3f979541-21d1-4404-b77a-16ad1df41755",
   "metadata": {},
   "source": [
    "#Build 99% Confidence Interval Using Sample Standard Deviation\n",
    "#Assuming the sample is representative of the population, construct a 99% confidence interval for the mean number of characters printed before the print-head fails using the sample standard deviation. Explain the steps you take and the rationale behind using the t-distribution for this task."
   ]
  },
  {
   "cell_type": "code",
   "execution_count": 5,
   "id": "7f6b7436-7b5e-4503-8e42-d861e52937b7",
   "metadata": {},
   "outputs": [
    {
     "name": "stdout",
     "output_type": "stream",
     "text": [
      "Sample Mean: 1.2387\n",
      "Sample Standard Deviation: 0.1932\n",
      "99% Confidence Interval: (1.0902, 1.3871)\n"
     ]
    }
   ],
   "source": [
    "import numpy as np\n",
    "from scipy import stats\n",
    "\n",
    "\n",
    "# Given data\n",
    "data = [1.13, 1.55, 1.43, 0.92, 1.25, 1.36, 1.32, 0.85, 1.07, 1.48, 1.20, 1.33, 1.18, 1.22, 1.29]\n",
    "\n",
    "# Calculate the sample mean\n",
    "sample_mean = np.mean(data)\n",
    "\n",
    "# Calculate the sample standard deviation\n",
    "sample_std = np.std(data, ddof=1)  # Use ddof=1 for sample standard deviation\n",
    "\n",
    "# Calculate the sample size\n",
    "n = len(data)\n",
    "\n",
    "# Calculate the t-value for a 99% confidence interval (two-tailed) with degrees of freedom (n-1)\n",
    "t_value = stats.t.ppf(0.995, n - 1) # Changed from 0.975 to 0.995 for 99% confidence\n",
    "\n",
    "# Calculate the margin of error\n",
    "margin_of_error = t_value * (sample_std / np.sqrt(n))\n",
    "\n",
    "# Calculate the confidence interval\n",
    "confidence_interval = (sample_mean - margin_of_error, sample_mean + margin_of_error)\n",
    "\n",
    "print(f\"Sample Mean: {sample_mean:.4f}\")\n",
    "print(f\"Sample Standard Deviation: {sample_std:.4f}\")\n",
    "print(f\"99% Confidence Interval: ({confidence_interval[0]:.4f}, {confidence_interval[1]:.4f})\")\n",
    "\n",
    "# Explanation:\n",
    "# We use the t-distribution because the population standard deviation is unknown and we are using the sample standard deviation as an estimate.  \n",
    "# The t-distribution is more appropriate for smaller sample sizes where the sample standard deviation may not be a perfect estimate of the population standard deviation. As sample size increases the t-distribution approaches the normal distribution.\n",
    "#\n",
    "# Steps:\n",
    "# 1. Calculate the sample mean and sample standard deviation.\n",
    "# 2. Determine the degrees of freedom (n-1).\n",
    "# 3. Find the t-value for the desired confidence level (99%) and degrees of freedom using stats.t.ppf().  Note that we are using 0.995 because we need the value that cuts off the upper 0.5% of the t-distribution (two-tailed test).\n",
    "# 4. Calculate the margin of error.\n",
    "# 5. Calculate the confidence interval using the margin of error, sample mean and t-value."
   ]
  },
  {
   "cell_type": "code",
   "execution_count": 7,
   "id": "37c2422c-a1f6-448d-aeea-c4fbe569cf80",
   "metadata": {},
   "outputs": [
    {
     "name": "stdout",
     "output_type": "stream",
     "text": [
      "Sample Mean: 1.2387\n",
      "99% Confidence Interval (known population std dev): (1.1057, 1.3717)\n"
     ]
    }
   ],
   "source": [
    "# prompt: . Build 99% Confidence Interval Using Known Population Standard Deviation\n",
    "# If it were known that the population standard deviation is 0.2 million characters, construct a 99% confidence interval for the mean number of characters printed before failure.\n",
    "\n",
    "import numpy as np\n",
    "from scipy import stats\n",
    "\n",
    "# Given data\n",
    "data = [1.13, 1.55, 1.43, 0.92, 1.25, 1.36, 1.32, 0.85, 1.07, 1.48, 1.20, 1.33, 1.18, 1.22, 1.29]\n",
    "\n",
    "# Population standard deviation\n",
    "population_std = 0.2\n",
    "\n",
    "# Calculate the sample mean\n",
    "sample_mean = np.mean(data)\n",
    "\n",
    "# Calculate the sample size\n",
    "n = len(data)\n",
    "\n",
    "# Calculate the z-value for a 99% confidence interval (two-tailed)\n",
    "z_value = stats.norm.ppf(0.995)  # Use norm.ppf for z-score\n",
    "\n",
    "# Calculate the margin of error\n",
    "margin_of_error = z_value * (population_std / np.sqrt(n))\n",
    "\n",
    "# Calculate the confidence interval\n",
    "confidence_interval = (sample_mean - margin_of_error, sample_mean + margin_of_error)\n",
    "\n",
    "print(f\"Sample Mean: {sample_mean:.4f}\")\n",
    "print(f\"99% Confidence Interval (known population std dev): ({confidence_interval[0]:.4f}, {confidence_interval[1]:.4f})\")"
   ]
  },
  {
   "cell_type": "code",
   "execution_count": null,
   "id": "605937d4-e552-4b9c-8c4a-464f37db66c9",
   "metadata": {},
   "outputs": [],
   "source": []
  }
 ],
 "metadata": {
  "kernelspec": {
   "display_name": "Python 3 (ipykernel)",
   "language": "python",
   "name": "python3"
  },
  "language_info": {
   "codemirror_mode": {
    "name": "ipython",
    "version": 3
   },
   "file_extension": ".py",
   "mimetype": "text/x-python",
   "name": "python",
   "nbconvert_exporter": "python",
   "pygments_lexer": "ipython3",
   "version": "3.12.4"
  }
 },
 "nbformat": 4,
 "nbformat_minor": 5
}
